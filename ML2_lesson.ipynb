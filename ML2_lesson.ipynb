{
 "cells": [
  {
   "cell_type": "code",
   "execution_count": null,
   "id": "1777886b",
   "metadata": {},
   "outputs": [],
   "source": [
    "# IMPORTS\n",
    "\n",
    "import numpy as np\n",
    "import pandas as pd\n",
    "import matplotlib.pyplot as plt"
   ]
  },
  {
   "cell_type": "markdown",
   "id": "25ba3899",
   "metadata": {},
   "source": [
    "# OPEN AND PREPARE DATA"
   ]
  },
  {
   "cell_type": "code",
   "execution_count": null,
   "id": "38f8562d",
   "metadata": {
    "scrolled": false
   },
   "outputs": [],
   "source": [
    "# KNOWN DATA\n",
    "fn_features = 'backyard_party.csv'\n",
    "\n",
    "# UNKNOWN DATA\n",
    "fn_new_data = 'backyard_party_new_friends.csv'"
   ]
  },
  {
   "cell_type": "markdown",
   "id": "bb9d7fac",
   "metadata": {},
   "source": [
    "# SPLIT DATASET\n",
    "\n",
    "Here we split the dataset into training and testing."
   ]
  },
  {
   "cell_type": "code",
   "execution_count": null,
   "id": "afe288f3",
   "metadata": {},
   "outputs": [],
   "source": [
    "# code to split data goes here"
   ]
  },
  {
   "cell_type": "markdown",
   "id": "302dbf53",
   "metadata": {},
   "source": [
    "### Exercise 1:\n",
    "\n",
    "Using the Iris dataset, create the training and testing subsets where the testing is made up of 20% of the total dataset."
   ]
  },
  {
   "cell_type": "code",
   "execution_count": null,
   "id": "2ff01bb5",
   "metadata": {},
   "outputs": [],
   "source": [
    "# load data here\n",
    "\n",
    "# split data here"
   ]
  },
  {
   "cell_type": "markdown",
   "id": "f1901738",
   "metadata": {},
   "source": [
    "# APPLY KNN!\n",
    "\n",
    "Apply the K-Nearest Neighbours classification algorithm so that we can calculate accuracy metrics."
   ]
  },
  {
   "cell_type": "code",
   "execution_count": null,
   "id": "d74ecc87",
   "metadata": {
    "scrolled": false
   },
   "outputs": [],
   "source": [
    "# code for KNN goes here\n",
    "\n",
    "# here is the plotting code for you\n",
    "plt.figure(dpi = 200)\n",
    "\n",
    "# Create the scatter plot with custom colors\n",
    "plt.scatter(X_test[:,0],X_test[:,1],c = y_pred, marker = 's', s = 70, alpha = 0.7)\n",
    "plt.scatter(X_train[:,0],X_train[:,1],c = y_train, s = 30, alpha = 0.5)\n",
    "\n",
    "# Add labels and title\n",
    "plt.xlabel(r'$X_1$-axis of backyard / meters')\n",
    "plt.ylabel(r'$X_2$-axis of backyard / meters')\n",
    "plt.title('Backyard party')\n",
    "\n",
    "plt.xlim([0,10]);plt.ylim([0,10])\n",
    "\n",
    "plt.grid()\n",
    "plt.show()"
   ]
  },
  {
   "cell_type": "markdown",
   "id": "db16412c",
   "metadata": {},
   "source": [
    "# ACCURACY METRICS\n",
    "\n",
    "This is to get an estimation of the performance of the KNN model."
   ]
  },
  {
   "cell_type": "code",
   "execution_count": null,
   "id": "126d337a",
   "metadata": {
    "scrolled": false
   },
   "outputs": [],
   "source": [
    "# calculate accuracy metrics here\n",
    "\n",
    "# Assuming y_true are the true labels and y_pred are the predicted labels\n",
    "y_true = [0, 1, 1, 0, 1, 1, 0, 0, 1, 0]\n",
    "y_pred = [0, 1, 1, 0, 0, 1, 1, 0, 1, 1]"
   ]
  },
  {
   "cell_type": "markdown",
   "id": "8ee92416",
   "metadata": {},
   "source": [
    "### Exercise 2:\n",
    "\n",
    "Using the predictions and the testing set from when you calculated the labels using KNN, calculate the following accuracy metrics:\n",
    "\n",
    "- accuracy\n",
    "- confusion matrix (also plot it)\n",
    "- precision\n",
    "- recall"
   ]
  },
  {
   "cell_type": "markdown",
   "id": "e064907d",
   "metadata": {},
   "source": [
    "# CROSS VALIDATION"
   ]
  },
  {
   "cell_type": "code",
   "execution_count": null,
   "id": "aca5f001",
   "metadata": {},
   "outputs": [],
   "source": [
    "# apply cross validation here"
   ]
  },
  {
   "cell_type": "markdown",
   "id": "abc37446",
   "metadata": {},
   "source": [
    "# HYPERPARAMETER TUNING"
   ]
  },
  {
   "cell_type": "code",
   "execution_count": null,
   "id": "5f7e705d",
   "metadata": {},
   "outputs": [],
   "source": [
    "# apply hyperparameter tuning to determine best value for K in KNN"
   ]
  },
  {
   "cell_type": "markdown",
   "id": "7f97e6ed",
   "metadata": {},
   "source": [
    "### Exercise 3:\n",
    "\n",
    "Using your optimized KNN model, apply this model to predict the labels of the unknown backyard party dataset (using the file 'backyard_party_new_friends.csv').\n",
    "\n",
    "Plot the known datapoints as somewhat transparent circles, and plot the unknown (but now predicted) datapoints as squares."
   ]
  },
  {
   "cell_type": "code",
   "execution_count": null,
   "id": "0795f75a",
   "metadata": {},
   "outputs": [],
   "source": [
    "# use KNN model to make predictions and plot the results here"
   ]
  }
 ],
 "metadata": {
  "kernelspec": {
   "display_name": "Python 3",
   "language": "python",
   "name": "python3"
  },
  "language_info": {
   "codemirror_mode": {
    "name": "ipython",
    "version": 3
   },
   "file_extension": ".py",
   "mimetype": "text/x-python",
   "name": "python",
   "nbconvert_exporter": "python",
   "pygments_lexer": "ipython3",
   "version": "3.8.8"
  }
 },
 "nbformat": 4,
 "nbformat_minor": 5
}
